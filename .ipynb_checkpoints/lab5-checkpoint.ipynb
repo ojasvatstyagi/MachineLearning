{
 "cells": [
  {
   "cell_type": "code",
   "execution_count": 2,
   "id": "8bcbef7f-ebc9-48ca-b813-5299b0d2af39",
   "metadata": {},
   "outputs": [],
   "source": [
    "import pandas as pd\n",
    "import numpy as np"
   ]
  },
  {
   "cell_type": "code",
   "execution_count": 29,
   "id": "a29d761d-2872-4ced-b5fc-bffb29f33fe7",
   "metadata": {},
   "outputs": [
    {
     "name": "stdout",
     "output_type": "stream",
     "text": [
      "[[ 0.04036511  0.20482703  0.08136609 ... -0.76152337 -0.16404587\n",
      "  -0.33827469]\n",
      " [-3.78664969 -0.85732257 -0.64136295 ...  6.64188293  0.66995817\n",
      "   1.42927037]\n",
      " [ 0.23011285 -1.66387014 -1.14345143 ...  2.04646192 -0.54857471\n",
      "   0.29268756]\n",
      " ...\n",
      " [-0.45464965  0.79339726  0.15163465 ... -0.29263011 -0.16794799\n",
      "  -0.2377603 ]\n",
      " [ 0.23011285 -1.66387014 -1.14345143 ...  2.04646192 -0.54857471\n",
      "   0.29268756]\n",
      " [ 0.5070621  -0.19850132 -2.1412226  ...  0.14741436 -0.83451633\n",
      "   2.87127635]]\n"
     ]
    }
   ],
   "source": [
    "# Load the dataset\n",
    "df1 = pd.read_csv('English_Abstractive.csv')\n",
    "\n",
    "from sklearn.model_selection import train_test_split\n",
    "\n",
    "# Separating features and labels\n",
    "x = df1.iloc[:, :-1].values  # Feature vectors\n",
    "y = df1['Judgement Status'].values  # Labels\n",
    "\n",
    "# Splitting the dataset\n",
    "x_train, x_test, y_train, y_test = train_test_split(x, y, test_size=0.3, random_state=42)\n",
    "\n",
    "from sklearn.model_selection import train_test_split\n",
    "from sklearn.preprocessing import StandardScaler\n",
    "\n",
    "# Initialize the StandardScaler\n",
    "scaler = StandardScaler()\n",
    "\n",
    "# Fit the scaler on the training data and transform it\n",
    "x_train_scaled = scaler.fit_transform(x_train)\n",
    "\n",
    "x_test_scaled = scaler.transform(x_test)\n",
    "print(x_train_scaled)"
   ]
  },
  {
   "cell_type": "code",
   "execution_count": 5,
   "id": "658981bb-0908-4cde-9345-12538d2f3fa7",
   "metadata": {},
   "outputs": [],
   "source": [
    "from sklearn.linear_model import LinearRegression\n",
    "\n",
    "# Select one attribute (column) from x_train\n",
    "x_train_single = x_train[:, [0]]  # Selecting the first attribute\n",
    "\n",
    "# Train the Linear Regression model\n",
    "reg = LinearRegression().fit(x_train_single, y_train)\n",
    "\n",
    "# Make predictions on the training data\n",
    "y_train_pred = reg.predict(x_train_single)\n"
   ]
  },
  {
   "cell_type": "code",
   "execution_count": 6,
   "id": "88a00958-0dc2-411d-9288-60118531b30f",
   "metadata": {},
   "outputs": [
    {
     "name": "stdout",
     "output_type": "stream",
     "text": [
      "MSE: 1.1370710287246588\n",
      "RMSE: 1.0663353265857127\n",
      "MAPE: 1457670920720964.0\n",
      "R2 Score: 0.01112071650834523\n"
     ]
    }
   ],
   "source": [
    "from sklearn.metrics import mean_squared_error, r2_score, mean_absolute_percentage_error\n",
    "import numpy as np\n",
    "def evaluate_model(y_true, y_pred):\n",
    "    mse = mean_squared_error(y_true, y_pred)\n",
    "    rmse = np.sqrt(mse)\n",
    "    mape = mean_absolute_percentage_error(y_true, y_pred)\n",
    "    r2 = r2_score(y_true, y_pred)\n",
    "    \n",
    "    return {\n",
    "        \"MSE\": mse,\n",
    "        \"RMSE\": rmse,\n",
    "        \"MAPE\": mape,\n",
    "        \"R2 Score\": r2\n",
    "    }\n",
    "train_metrics = evaluate_model(y_train, y_train_pred)\n",
    "    \n",
    "# Print the training metrics\n",
    "for metric, value in train_metrics.items():\n",
    "    print(f\"{metric}: {value}\")"
   ]
  },
  {
   "cell_type": "code",
   "execution_count": 7,
   "id": "2ddc36fd-991a-4a4a-aad6-75832a7c493c",
   "metadata": {},
   "outputs": [
    {
     "name": "stdout",
     "output_type": "stream",
     "text": [
      "MSE: 1.254182684501505\n",
      "RMSE: 1.1199029799502744\n",
      "MAPE: 1970291408967648.0\n",
      "R2 Score: -0.027732592575653525\n"
     ]
    }
   ],
   "source": [
    "x_test_single = x_test[:, [0]]  # Selecting the same attribute from test set\n",
    "y_test_pred = reg.predict(x_test_single)\n",
    "\n",
    "train_metrics = evaluate_model(y_test, y_test_pred)\n",
    "    \n",
    "# Print the training metrics\n",
    "for metric, value in train_metrics.items():\n",
    "    print(f\"{metric}: {value}\")"
   ]
  },
  {
   "cell_type": "code",
   "execution_count": 25,
   "id": "20c40118-7467-426d-bb22-ab8278ce3015",
   "metadata": {},
   "outputs": [
    {
     "name": "stdout",
     "output_type": "stream",
     "text": [
      "MSE: 0.7648200718929705\n",
      "RMSE: 0.8745399201254169\n",
      "MAPE: 1050751871093125.4\n",
      "R2 Score: 0.3348570972370647\n",
      "\n",
      "MSE: 1.5173254779387917e+26\n",
      "RMSE: 12317976611192.244\n",
      "MAPE: 7.228850283215114e+27\n",
      "R2 Score: -1.2433634003190989e+26\n"
     ]
    }
   ],
   "source": [
    "# Using all attributes in X_train\n",
    "reg_all = LinearRegression().fit(x_train, y_train)\n",
    "\n",
    "# Make predictions and calculate metrics\n",
    "y_train_pred_all = reg_all.predict(x_train)\n",
    "y_test_pred_all = reg_all.predict(x_test)\n",
    "\n",
    "train_metrics = evaluate_model(y_train, y_train_pred_all)\n",
    "    \n",
    "# Print the training metrics\n",
    "for metric, value in train_metrics.items():\n",
    "    print(f\"{metric}: {value}\")\n",
    "\n",
    "print()\n",
    "train_metrics = evaluate_model(y_test, y_test_pred_all)\n",
    "    \n",
    "# Print the training metrics\n",
    "for metric, value in train_metrics.items():\n",
    "    print(f\"{metric}: {value}\")"
   ]
  },
  {
   "cell_type": "code",
   "execution_count": 9,
   "id": "0ef43e9c-30a1-4379-a6f6-eed99e947051",
   "metadata": {},
   "outputs": [
    {
     "name": "stdout",
     "output_type": "stream",
     "text": [
      "Labels: [0 1 1 0 0 1 1 0 0 0 0 0 1 0 0 0 0 1 1 1 0 0 0 0 0 1 0 0 1 1 1 0 0 0 0 0 1\n",
      " 0 0 0 0 0 0 0 0 1 1 0 1 0 0 0 1 0 0 0 0 1 1 1 0 1 1 0 0 0 0 0 0 0 1 1 1 0\n",
      " 0 1 0 1 0 0 1 1 0 0 0 1 0 1 1 0 0 1 1 0 0 1 0 0 0 1 0 1 0 0 0 0 1 0 1 0 0\n",
      " 1 0 0 0 0 0 0 1 0 1 0 0 0 0 1 0 0 0 1 1 0 0 1 0 0 0 1 0 0 1 0 0 1 0 0 0 0\n",
      " 0 0 0 0 0 0 0 1 0 0 0 0 0 0 1 0 1 0 0 0 0 0 1 1 0 0 0 0 1 0 0 0 0 0 0 0 0\n",
      " 0 0 0 1 1 0 1 0 0 0 1 0 1 1 0 0 1 0 0 1 1 1 0 0 0 0 0 0 0 0 0 0 0 1 1 0 0\n",
      " 0 1 0 1 1 0 0 0 0 1 0 0 0 1 1 1 0 1 0 0 0 0 1 1 1 1 1 0 0 0 0 0 1 0 0 1 0\n",
      " 0 1 0 0 0 0 0 0 1 0 1 0 0 0 0 0 0 0 1 1 1 1 1 0 0 1 0 0 0 0 0 0 1 0 0 0 1\n",
      " 0 0 1 1 0 1 0 0 0 1 0 1 0 0 0 0 0 0 0 0 0 0 0 0 1 0 0 1 0 1 1 1 0 1 1 0 1\n",
      " 1 0 0 0 1 0 0 0 0 1 0 0 0 0 0 0 0 1 0 0 0 0 0 1 0 1 1 1 0 1 0 0 0 1 0 1 0\n",
      " 0 0 0 1 1 0 0 0 0 0 0 1 1 1 0 1 0 0 0 0 0 1 0 0 0 0 1 0 0 1 0 1 1 0 1 1 0\n",
      " 0 1 0 0 1 0 1 0 0 0 0 1 1]\n",
      "\n",
      "Cluster Centers: [[-2.01067038e-02  4.33924651e-02  7.67701313e-03 -1.23002007e-02\n",
      "  -5.79528465e-03  1.10583536e-02  9.51710825e-03  1.63753513e-02\n",
      "  -1.48899119e-02  3.18505928e-03 -1.59197957e-02 -3.00663162e-03\n",
      "  -7.84327745e-03 -3.46973294e-03 -7.63141657e-03  2.06838574e-02\n",
      "   6.95249590e-03  3.25752306e-03  5.30964698e-03  1.78060549e-02\n",
      "  -1.35241996e-02  1.86241644e-02 -1.69838379e-02  1.29320068e-02\n",
      "   3.13024570e-02 -3.14130110e-02  2.84840651e-03 -5.68506222e-03\n",
      "  -8.90185305e-03  4.10684150e-02 -1.49981168e-02  1.03766261e-02\n",
      "  -3.10270224e-03 -6.75838138e-03  1.40202657e-02  4.20380961e-02\n",
      "  -1.32105946e-02 -4.15175793e-02  1.87412134e-02  1.92016117e-02\n",
      "  -2.65085312e-02 -2.51883146e-02 -2.26056502e-02 -8.97404127e-03\n",
      "   4.08588733e-02  3.18177666e-02 -3.31864391e-02 -2.17258047e-02\n",
      "  -1.95429160e-02  9.85678279e-03 -1.50662858e-02 -8.80844330e-04\n",
      "   1.04203153e-02 -7.23209175e-04 -4.21254638e-03  5.99498498e-03\n",
      "   6.27775780e-03 -1.45333816e-02 -6.82213662e-03 -1.17485288e-02\n",
      "   7.55351588e-03 -6.39583330e-03  8.61329265e-03  1.41860731e-01\n",
      "   7.30613400e-03 -7.05153795e-03 -2.56932495e-03  1.24879400e-03\n",
      "   6.84828723e-04 -6.10688504e-04  1.06759859e-01  2.13088944e-02\n",
      "   9.13037202e-03  5.95897860e-03 -3.32035906e-02 -3.15837415e-02\n",
      "   8.82889080e-03  1.91472634e-02  4.03953607e-02  1.81616450e-02\n",
      "   1.13572708e-02 -1.04173412e-03 -2.86264504e-02  3.62840231e-02\n",
      "  -1.41553205e-02  1.09667543e-02 -3.02712991e-02 -3.88127399e-02\n",
      "   1.30100785e-02  5.55775899e-02  2.53978920e-03  9.96854877e-03\n",
      "  -9.97664432e-04 -1.49241572e-02  3.38227658e-02  1.71340104e-02\n",
      "  -2.21082497e-02 -2.45552826e-02  1.94712092e-02  2.05525423e-02\n",
      "   3.08691012e-02  3.36020068e-03 -4.33906040e-03  1.43353288e-02\n",
      "   1.60553638e-02  9.36937393e-03  9.09213251e-03  1.01639015e-02\n",
      "   1.68554030e-02  1.13720846e-03 -7.72675239e-03  2.52269340e-02\n",
      "   2.26960623e-02 -4.77090761e-02  1.99935746e-02  1.12687486e-02\n",
      "  -2.05880616e-02 -3.14700393e-03 -2.19783414e-03 -6.03141550e-03\n",
      "   1.41810294e-02 -1.50694383e-02  8.61113121e-03  1.48032776e-02\n",
      "  -2.16239061e-02  2.11085618e-03 -2.45893781e-02 -3.91653185e-03\n",
      "  -3.83510284e-03  4.14342713e-02 -1.58587794e-02  7.54513529e-03\n",
      "   3.18254530e-02  4.48906114e-02 -3.65653107e-02  1.66577435e-02\n",
      "  -1.06506929e-02 -5.13335486e-02  1.39842924e-02  5.79100287e-03\n",
      "  -8.29051765e-03 -1.13570703e-02 -9.43616238e-03  1.33137396e-02\n",
      "  -5.14973981e-03  2.26328797e-03 -2.05840338e-01  2.72476731e-03\n",
      "   1.11283683e-02 -2.76731578e-02 -1.89192962e-02  1.72076069e-02\n",
      "  -4.13950563e-02 -4.77584896e-03  2.93119221e-03  2.50459924e-02\n",
      "   7.06367330e-02  2.46253643e-02 -1.95770745e-02 -5.91457623e-03\n",
      "  -5.07428420e-03  1.33066758e-03  4.85518712e-04 -6.70722456e-06\n",
      "  -3.68532805e-03  1.64263968e-02  1.46362301e-02 -1.45298696e-02\n",
      "   9.62114277e-03 -1.13104803e-02 -7.14723998e-03  1.29130316e-02\n",
      "   2.16663632e-02  6.39569972e-03 -7.51162477e-03  2.05708998e-02\n",
      "  -4.15021788e-03  2.20755498e-03 -1.90086126e-02  9.51373579e-04\n",
      "  -6.03812105e-04  7.10489742e-02 -3.14567703e-02  8.99363792e-02\n",
      "  -1.51980744e-02  3.32846768e-02 -1.72934762e-02 -2.72741802e-02\n",
      "   1.61075360e-02  9.23150624e-03 -8.68755390e-03 -2.30996752e-02\n",
      "  -2.33496755e-02  7.04146039e-03  1.94924937e-02 -8.88795835e-04\n",
      "   2.38470223e-03 -5.84337754e-03  1.15061506e-02  4.17536274e-02\n",
      "  -2.66291552e-02  2.50573985e-03  1.15053988e-02  4.12089430e-02\n",
      "  -1.59815074e-02  8.98667894e-03  3.11803239e-02 -9.19286035e-03\n",
      "  -2.88089310e-02 -3.16579040e-03 -2.91402993e-02  1.56201846e-02\n",
      "   1.98174124e-03  1.45781460e-02  1.21143035e-03  6.62157430e-03\n",
      "  -2.29109789e-02  1.52336373e-03 -5.40854348e-03 -1.06644799e-02\n",
      "   9.33807456e-03  6.88741487e-03 -8.76165054e-03  3.25530094e-03\n",
      "   3.23707382e-02 -2.14542942e-02  3.26450663e-02  2.04803134e-02\n",
      "   3.25465012e-02  3.99147728e-03 -6.42555880e-03 -2.20538265e-02\n",
      "   2.10391019e-02 -8.04858799e-03  3.50172029e-02 -6.21216168e-02\n",
      "   2.16482908e-02 -2.65902560e-02 -2.88350353e-02  1.72161066e-02\n",
      "   5.32733781e-03 -2.42551501e-02  1.37700671e-02 -3.87244170e-03\n",
      "   3.51891709e-01  1.12851521e-03  4.15920796e-02  7.81373034e-03\n",
      "  -9.66936304e-03  1.97281239e-02 -1.79178308e-02 -5.08308160e-04\n",
      "   2.48722372e-04  3.32601397e-03  2.06059664e-02  2.70382145e-02\n",
      "  -2.34946809e-02 -9.64929449e-03 -3.77394965e-02 -1.32505240e-02\n",
      "  -1.06062342e-03 -6.61813923e-02 -4.30580723e-02 -3.23267123e-03\n",
      "  -5.07106305e-02  7.38247857e-03  1.27068563e-02 -2.36673585e-02\n",
      "   5.67421273e-03 -2.12562591e-02  2.19816881e-02  8.69498494e-03\n",
      "   2.19506041e-02 -8.69918159e-02 -2.65247239e-03  9.06931198e-03\n",
      "  -2.25852916e-02 -8.18615643e-02 -1.04004133e-03 -1.83186214e-02\n",
      "   4.12664358e-03 -1.55649189e-02 -7.62177408e-02 -2.14886939e-02\n",
      "   5.01667586e-04 -3.02524347e-02  2.30503152e-02 -5.01492735e-03\n",
      "  -4.50202461e-02 -9.62451748e-03  3.40816973e-02 -1.47274906e-02\n",
      "   1.60386291e-03 -6.96518204e-03 -1.56390481e-03 -2.62454126e-02\n",
      "   1.34036015e-02  4.86811808e-02 -1.62294678e-02 -4.37997086e-03]\n",
      " [ 4.74981895e-03 -1.53970871e-01  6.63040114e-03 -2.58857168e-01\n",
      "  -5.46687809e-02  4.08893463e-02  1.27627497e-01 -3.65989377e-02\n",
      "  -4.63117148e-02  2.07828130e-02 -2.92156118e-02  7.17354125e-02\n",
      "   7.57984718e-02 -7.03591133e-03 -7.74350184e-02  2.45140525e-01\n",
      "   3.57480750e-02 -6.97047203e-02 -4.43628404e-02 -1.05014047e-01\n",
      "   2.68232798e-02 -2.66375143e-02  1.13243176e-02  7.18267701e-02\n",
      "   1.23030178e-02 -1.01512314e-01 -2.07372792e-02  4.98165219e-02\n",
      "  -2.66276600e-02  1.42263115e-01  3.04281675e-02  2.70756406e-02\n",
      "   2.21278215e-02 -1.39321255e-01 -1.59173787e-02  3.00033639e-02\n",
      "   2.03300032e-02  7.01920716e-03  8.87369527e-03 -2.37868318e-02\n",
      "  -6.55666613e-02 -4.75540677e-02 -5.76593253e-02  9.81920350e-02\n",
      "   2.26704935e-01  7.68584582e-02 -6.64047071e-02  1.25885659e-01\n",
      "  -2.12305537e-02 -5.34051893e-03  7.57993078e-02  6.80031097e-02\n",
      "  -8.68380690e-02 -9.03339962e-02 -5.38357137e-02 -1.36661642e-01\n",
      "  -7.57134429e-02  1.29457955e-01  6.54510999e-02 -1.07940003e-01\n",
      "  -8.35425172e-03 -2.85089164e-02 -8.56682182e-02 -5.05982462e-02\n",
      "  -3.35866518e-03 -4.54333571e-02 -3.60652767e-02 -3.28785159e-02\n",
      "   1.59099880e-02 -1.39811002e-02  3.26678405e-01  3.19938525e-02\n",
      "   9.39951631e-02 -6.12428321e-02  5.63413844e-02 -1.35650123e-01\n",
      "   3.71021331e-02  7.19289723e-02 -8.01606654e-02  3.21533175e-02\n",
      "   1.87913608e-03 -3.40859396e-02 -4.70841592e-02  1.85444586e-01\n",
      "  -7.37694854e-02  2.82741425e-02  1.80864482e-01  1.22637887e-01\n",
      "   5.47254973e-02  4.77751715e-03  3.67280637e-02  3.55306669e-02\n",
      "   5.40448662e-02 -2.53647131e-02 -9.67937382e-02 -3.81401315e-02\n",
      "  -2.62751991e-01 -1.22022453e-02  1.08069310e-01 -1.80908675e-02\n",
      "   5.78231758e-02 -3.79232659e-03 -4.28237402e-02 -4.60166131e-02\n",
      "  -1.95091696e-02  5.70560589e-02 -5.36807621e-03  7.54057508e-02\n",
      "   7.89440825e-02  4.70934534e-02  5.86193084e-02 -2.61202673e-02\n",
      "   5.68611786e-02 -1.47506731e-02 -3.62313895e-02 -8.77280577e-02\n",
      "  -7.10067841e-02  5.95663409e-02  1.05818009e-02 -1.01381727e-02\n",
      "  -1.19646149e-01  3.69511029e-02  1.47497883e-02  2.27395335e-02\n",
      "  -7.25679660e-02  1.36417149e-02 -2.81461018e-02 -1.78623728e-01\n",
      "  -7.50741011e-02  7.34249363e-02 -1.02383580e-01 -3.74551105e-02\n",
      "   8.28419696e-02 -2.52800670e-01 -5.47528827e-02 -3.04489312e-02\n",
      "  -3.93652314e-01 -8.45314444e-02  1.02383588e-01  2.59503127e-02\n",
      "  -4.62440491e-02 -3.07291481e-02 -1.65482442e-02  2.29957057e-02\n",
      "   1.79949312e-02 -3.87455039e-02 -6.81267335e-01  5.59191691e-02\n",
      "   6.58775585e-03 -8.70538775e-02 -1.91471787e-01  8.29777917e-02\n",
      "  -1.27662764e-01  2.74406895e-02 -1.24266302e-02  1.37524431e-02\n",
      "   4.63935114e-01 -3.77265327e-02  6.30016629e-02  1.37949376e-01\n",
      "   4.69331022e-02  3.18620040e-03 -1.98441123e-01 -3.01147653e-02\n",
      "   2.63636379e-02 -6.39088078e-02  1.33098740e-01 -7.45139524e-02\n",
      "   6.36845372e-02 -1.60751695e-02 -7.01685088e-02  8.05733164e-03\n",
      "   9.26203161e-02 -3.85632396e-02  2.12084392e-02  4.38697692e-02\n",
      "  -2.44999876e-02 -9.43587827e-02 -5.40923123e-03  5.52961181e-02\n",
      "  -3.06251761e-02 -8.14167403e-02 -4.55608258e-02  5.75549773e-01\n",
      "   3.18964411e-02  2.37961709e-01 -1.38059448e-02 -1.74993618e-01\n",
      "   4.01628081e-03  1.72897949e-02 -1.79376802e-02 -6.82563703e-02\n",
      "  -3.88701403e-02  1.39714145e-02  3.20902769e-02  3.50010971e-03\n",
      "  -9.15542864e-02  3.22974580e-03 -6.13656542e-02 -3.50345899e-03\n",
      "  -3.52222498e-02  1.28102579e-01  6.37513691e-02  1.07098926e-02\n",
      "   9.42612552e-02  1.59024757e-03  2.64278581e-02 -2.47489683e-02\n",
      "   3.63782387e-02 -1.72664424e-01  6.65960724e-03  5.02771286e-02\n",
      "   6.78358844e-03  8.91045634e-02  2.34011195e-02 -1.63757761e-02\n",
      "   1.25901683e-02  2.88141713e-02  2.22543688e-02  6.28053370e-04\n",
      "   1.88023263e-02  1.17424664e-02  6.38978542e-02 -8.78174180e-03\n",
      "  -1.10947623e-01 -3.08176713e-02  1.11625297e-01  1.00439687e-01\n",
      "  -1.71791835e-02 -3.74426019e-02 -3.14631023e-02 -7.00991605e-02\n",
      "  -1.16924839e-01  2.93546474e-02  1.34143920e-01  1.14147391e-02\n",
      "   8.25809732e-02  2.91386896e-02  3.24154235e-02 -9.11839675e-02\n",
      "  -4.49720415e-02  1.02843467e-01  1.10626342e-01  2.02198155e-01\n",
      "   1.45828311e+00 -4.10877073e-02  9.24947700e-02  9.92246765e-02\n",
      "   8.32149821e-03  7.73938010e-02  7.33637133e-02 -1.55343047e-02\n",
      "   1.98432538e-02 -4.07442658e-02  8.28568861e-02 -1.02607987e-01\n",
      "  -1.13629688e-01 -2.77074155e-02  3.88065005e-02 -3.80869473e-02\n",
      "   7.77050918e-03  2.19987915e-01 -2.30269382e-01 -4.14813878e-02\n",
      "   2.00920468e-01  4.96850511e-02  3.68427238e-02 -1.24461064e-01\n",
      "   5.49670733e-02 -8.37047391e-02  3.26674010e-02 -1.90377906e-02\n",
      "   3.76495982e-01  2.58450672e-01 -5.58924644e-02  8.42341331e-02\n",
      "  -2.18029490e-01 -7.72945380e-02  2.00758757e-01 -1.13572673e-01\n",
      "   2.00769945e-02 -9.16381497e-02 -6.45244373e-01 -1.38485388e-01\n",
      "   1.42222953e-01 -5.52471174e-02  2.79878547e-02  7.47297496e-03\n",
      "  -4.69348835e-02  4.72770667e-02  1.04364927e-01 -7.31225399e-03\n",
      "  -1.79979988e-01 -6.84802818e-02 -8.74568795e-02 -6.79226989e-03\n",
      "   5.76885555e-03  3.34637697e-01  9.12868962e-03  9.85621979e-02]]\n"
     ]
    },
    {
     "name": "stderr",
     "output_type": "stream",
     "text": [
      "C:\\Users\\ojast\\anaconda3\\Lib\\site-packages\\sklearn\\cluster\\_kmeans.py:1429: UserWarning: KMeans is known to have a memory leak on Windows with MKL, when there are less chunks than available threads. You can avoid it by setting the environment variable OMP_NUM_THREADS=2.\n",
      "  warnings.warn(\n"
     ]
    }
   ],
   "source": [
    "from sklearn.cluster import KMeans\n",
    "\n",
    "# Fit KMeans clustering (excluding the target variable)\n",
    "kmeans = KMeans(n_clusters=2, random_state=0, n_init=\"auto\").fit(x_train)\n",
    "\n",
    "# Output labels and cluster centers\n",
    "labels = kmeans.labels_\n",
    "centers = kmeans.cluster_centers_\n",
    "\n",
    "print(f\"Labels: {labels}\")\n",
    "print()\n",
    "print(f\"Cluster Centers: {centers}\")"
   ]
  },
  {
   "cell_type": "code",
   "execution_count": 10,
   "id": "b586890e-0062-4797-9cab-fb2ed5d75441",
   "metadata": {},
   "outputs": [
    {
     "name": "stdout",
     "output_type": "stream",
     "text": [
      "Silhouette Score: 0.4112172549827032\n",
      "CH Score: 130.25547899876588\n",
      "DB Index: 1.6842548606710988\n"
     ]
    }
   ],
   "source": [
    "from sklearn.metrics import silhouette_score, calinski_harabasz_score, davies_bouldin_score\n",
    "\n",
    "# Calculate Silhouette Score\n",
    "silhouette = silhouette_score(x_train, kmeans.labels_)\n",
    "\n",
    "# Calculate Calinski-Harabasz Score (CH Score)\n",
    "ch_score = calinski_harabasz_score(x_train, kmeans.labels_)\n",
    "\n",
    "# Calculate Davies-Bouldin Index (DB Index)\n",
    "db_index = davies_bouldin_score(x_train, kmeans.labels_)\n",
    "\n",
    "print(f\"Silhouette Score: {silhouette}\")\n",
    "print(f\"CH Score: {ch_score}\")\n",
    "print(f\"DB Index: {db_index}\")"
   ]
  },
  {
   "cell_type": "code",
   "execution_count": 12,
   "id": "4f2e2e91-e505-4781-bd03-8f25fb04075f",
   "metadata": {},
   "outputs": [
    {
     "name": "stderr",
     "output_type": "stream",
     "text": [
      "C:\\Users\\ojast\\anaconda3\\Lib\\site-packages\\sklearn\\cluster\\_kmeans.py:1429: UserWarning: KMeans is known to have a memory leak on Windows with MKL, when there are less chunks than available threads. You can avoid it by setting the environment variable OMP_NUM_THREADS=2.\n",
      "  warnings.warn(\n",
      "C:\\Users\\ojast\\anaconda3\\Lib\\site-packages\\sklearn\\cluster\\_kmeans.py:1429: UserWarning: KMeans is known to have a memory leak on Windows with MKL, when there are less chunks than available threads. You can avoid it by setting the environment variable OMP_NUM_THREADS=2.\n",
      "  warnings.warn(\n",
      "C:\\Users\\ojast\\anaconda3\\Lib\\site-packages\\sklearn\\cluster\\_kmeans.py:1429: UserWarning: KMeans is known to have a memory leak on Windows with MKL, when there are less chunks than available threads. You can avoid it by setting the environment variable OMP_NUM_THREADS=2.\n",
      "  warnings.warn(\n"
     ]
    },
    {
     "name": "stdout",
     "output_type": "stream",
     "text": [
      "k = 2: Silhouette = 0.03714985126711369, CH Score = 2.8423344449910006, DB Index = 0.9091259855646955\n",
      "k = 3: Silhouette = 0.1724455512238192, CH Score = 63.38359655518486, DB Index = 0.9936548661800652\n",
      "k = 4: Silhouette = 0.29061243883605264, CH Score = 86.81177207975776, DB Index = 1.0506785965084637\n",
      "k = 5: Silhouette = 0.3504988381079284, CH Score = 86.66913668089295, DB Index = 1.5810488013045756\n",
      "k = 6: Silhouette = 0.35784129919046453, CH Score = 71.58214838934968, DB Index = 1.471175341938004\n",
      "k = 7: Silhouette = 0.3895832265260708, CH Score = 72.04370509927269, DB Index = 1.3296650869978808\n",
      "k = 8: Silhouette = 0.4101176003516989, CH Score = 79.11319943527323, DB Index = 1.2279228077614475\n",
      "k = 9: Silhouette = 0.38529680970846264, CH Score = 82.1391208630866, DB Index = 1.2326524912481718\n"
     ]
    },
    {
     "name": "stderr",
     "output_type": "stream",
     "text": [
      "C:\\Users\\ojast\\anaconda3\\Lib\\site-packages\\sklearn\\cluster\\_kmeans.py:1429: UserWarning: KMeans is known to have a memory leak on Windows with MKL, when there are less chunks than available threads. You can avoid it by setting the environment variable OMP_NUM_THREADS=2.\n",
      "  warnings.warn(\n",
      "C:\\Users\\ojast\\anaconda3\\Lib\\site-packages\\sklearn\\cluster\\_kmeans.py:1429: UserWarning: KMeans is known to have a memory leak on Windows with MKL, when there are less chunks than available threads. You can avoid it by setting the environment variable OMP_NUM_THREADS=2.\n",
      "  warnings.warn(\n",
      "C:\\Users\\ojast\\anaconda3\\Lib\\site-packages\\sklearn\\cluster\\_kmeans.py:1429: UserWarning: KMeans is known to have a memory leak on Windows with MKL, when there are less chunks than available threads. You can avoid it by setting the environment variable OMP_NUM_THREADS=2.\n",
      "  warnings.warn(\n",
      "C:\\Users\\ojast\\anaconda3\\Lib\\site-packages\\sklearn\\cluster\\_kmeans.py:1429: UserWarning: KMeans is known to have a memory leak on Windows with MKL, when there are less chunks than available threads. You can avoid it by setting the environment variable OMP_NUM_THREADS=2.\n",
      "  warnings.warn(\n",
      "C:\\Users\\ojast\\anaconda3\\Lib\\site-packages\\sklearn\\cluster\\_kmeans.py:1429: UserWarning: KMeans is known to have a memory leak on Windows with MKL, when there are less chunks than available threads. You can avoid it by setting the environment variable OMP_NUM_THREADS=2.\n",
      "  warnings.warn(\n"
     ]
    }
   ],
   "source": [
    "scores = []\n",
    "for k in range(2, 10):  # You can expand the range as needed\n",
    "    kmeans = KMeans(n_clusters=k, random_state=42).fit(x_train)\n",
    "    silhouette = silhouette_score(x_train, kmeans.labels_)\n",
    "    ch_score = calinski_harabasz_score(x_train, kmeans.labels_)\n",
    "    db_index = davies_bouldin_score(x_train, kmeans.labels_)\n",
    "    scores.append((k, silhouette, ch_score, db_index))\n",
    "\n",
    "# Print the scores\n",
    "for score in scores:\n",
    "    print(f\"k = {score[0]}: Silhouette = {score[1]}, CH Score = {score[2]}, DB Index = {score[3]}\")\n"
   ]
  },
  {
   "cell_type": "code",
   "execution_count": 17,
   "id": "2eed4668-2cab-4dfe-b282-5be07521240d",
   "metadata": {},
   "outputs": [
    {
     "name": "stderr",
     "output_type": "stream",
     "text": [
      "C:\\Users\\ojast\\anaconda3\\Lib\\site-packages\\sklearn\\cluster\\_kmeans.py:1429: UserWarning: KMeans is known to have a memory leak on Windows with MKL, when there are less chunks than available threads. You can avoid it by setting the environment variable OMP_NUM_THREADS=2.\n",
      "  warnings.warn(\n",
      "C:\\Users\\ojast\\anaconda3\\Lib\\site-packages\\sklearn\\cluster\\_kmeans.py:1429: UserWarning: KMeans is known to have a memory leak on Windows with MKL, when there are less chunks than available threads. You can avoid it by setting the environment variable OMP_NUM_THREADS=2.\n",
      "  warnings.warn(\n",
      "C:\\Users\\ojast\\anaconda3\\Lib\\site-packages\\sklearn\\cluster\\_kmeans.py:1429: UserWarning: KMeans is known to have a memory leak on Windows with MKL, when there are less chunks than available threads. You can avoid it by setting the environment variable OMP_NUM_THREADS=2.\n",
      "  warnings.warn(\n",
      "C:\\Users\\ojast\\anaconda3\\Lib\\site-packages\\sklearn\\cluster\\_kmeans.py:1429: UserWarning: KMeans is known to have a memory leak on Windows with MKL, when there are less chunks than available threads. You can avoid it by setting the environment variable OMP_NUM_THREADS=2.\n",
      "  warnings.warn(\n",
      "C:\\Users\\ojast\\anaconda3\\Lib\\site-packages\\sklearn\\cluster\\_kmeans.py:1429: UserWarning: KMeans is known to have a memory leak on Windows with MKL, when there are less chunks than available threads. You can avoid it by setting the environment variable OMP_NUM_THREADS=2.\n",
      "  warnings.warn(\n",
      "C:\\Users\\ojast\\anaconda3\\Lib\\site-packages\\sklearn\\cluster\\_kmeans.py:1429: UserWarning: KMeans is known to have a memory leak on Windows with MKL, when there are less chunks than available threads. You can avoid it by setting the environment variable OMP_NUM_THREADS=2.\n",
      "  warnings.warn(\n",
      "C:\\Users\\ojast\\anaconda3\\Lib\\site-packages\\sklearn\\cluster\\_kmeans.py:1429: UserWarning: KMeans is known to have a memory leak on Windows with MKL, when there are less chunks than available threads. You can avoid it by setting the environment variable OMP_NUM_THREADS=2.\n",
      "  warnings.warn(\n",
      "C:\\Users\\ojast\\anaconda3\\Lib\\site-packages\\sklearn\\cluster\\_kmeans.py:1429: UserWarning: KMeans is known to have a memory leak on Windows with MKL, when there are less chunks than available threads. You can avoid it by setting the environment variable OMP_NUM_THREADS=2.\n",
      "  warnings.warn(\n",
      "C:\\Users\\ojast\\anaconda3\\Lib\\site-packages\\sklearn\\cluster\\_kmeans.py:1429: UserWarning: KMeans is known to have a memory leak on Windows with MKL, when there are less chunks than available threads. You can avoid it by setting the environment variable OMP_NUM_THREADS=2.\n",
      "  warnings.warn(\n",
      "C:\\Users\\ojast\\anaconda3\\Lib\\site-packages\\sklearn\\cluster\\_kmeans.py:1429: UserWarning: KMeans is known to have a memory leak on Windows with MKL, when there are less chunks than available threads. You can avoid it by setting the environment variable OMP_NUM_THREADS=2.\n",
      "  warnings.warn(\n",
      "C:\\Users\\ojast\\anaconda3\\Lib\\site-packages\\sklearn\\cluster\\_kmeans.py:1429: UserWarning: KMeans is known to have a memory leak on Windows with MKL, when there are less chunks than available threads. You can avoid it by setting the environment variable OMP_NUM_THREADS=2.\n",
      "  warnings.warn(\n",
      "C:\\Users\\ojast\\anaconda3\\Lib\\site-packages\\sklearn\\cluster\\_kmeans.py:1429: UserWarning: KMeans is known to have a memory leak on Windows with MKL, when there are less chunks than available threads. You can avoid it by setting the environment variable OMP_NUM_THREADS=2.\n",
      "  warnings.warn(\n",
      "C:\\Users\\ojast\\anaconda3\\Lib\\site-packages\\sklearn\\cluster\\_kmeans.py:1429: UserWarning: KMeans is known to have a memory leak on Windows with MKL, when there are less chunks than available threads. You can avoid it by setting the environment variable OMP_NUM_THREADS=2.\n",
      "  warnings.warn(\n",
      "C:\\Users\\ojast\\anaconda3\\Lib\\site-packages\\sklearn\\cluster\\_kmeans.py:1429: UserWarning: KMeans is known to have a memory leak on Windows with MKL, when there are less chunks than available threads. You can avoid it by setting the environment variable OMP_NUM_THREADS=2.\n",
      "  warnings.warn(\n",
      "C:\\Users\\ojast\\anaconda3\\Lib\\site-packages\\sklearn\\cluster\\_kmeans.py:1429: UserWarning: KMeans is known to have a memory leak on Windows with MKL, when there are less chunks than available threads. You can avoid it by setting the environment variable OMP_NUM_THREADS=2.\n",
      "  warnings.warn(\n",
      "C:\\Users\\ojast\\anaconda3\\Lib\\site-packages\\sklearn\\cluster\\_kmeans.py:1429: UserWarning: KMeans is known to have a memory leak on Windows with MKL, when there are less chunks than available threads. You can avoid it by setting the environment variable OMP_NUM_THREADS=2.\n",
      "  warnings.warn(\n",
      "C:\\Users\\ojast\\anaconda3\\Lib\\site-packages\\sklearn\\cluster\\_kmeans.py:1429: UserWarning: KMeans is known to have a memory leak on Windows with MKL, when there are less chunks than available threads. You can avoid it by setting the environment variable OMP_NUM_THREADS=2.\n",
      "  warnings.warn(\n",
      "C:\\Users\\ojast\\anaconda3\\Lib\\site-packages\\sklearn\\cluster\\_kmeans.py:1429: UserWarning: KMeans is known to have a memory leak on Windows with MKL, when there are less chunks than available threads. You can avoid it by setting the environment variable OMP_NUM_THREADS=2.\n",
      "  warnings.warn(\n"
     ]
    },
    {
     "data": {
      "image/png": "[encoded data removed]",
      "text/plain": [
       "<Figure size 640x480 with 1 Axes>"
      ]
     },
     "metadata": {},
     "output_type": "display_data"
    }
   ],
   "source": [
    "import matplotlib.pyplot as plt\n",
    "\n",
    "distortions = []\n",
    "for k in range(2, 20):\n",
    "    kmeans = KMeans(n_clusters=k).fit(x_train)\n",
    "    distortions.append(kmeans.inertia_)\n",
    "\n",
    "plt.plot(range(2, 20), distortions, marker='o')\n",
    "plt.xlabel('Number of clusters (k)')\n",
    "plt.ylabel('Distortion')\n",
    "plt.title('Elbow Plot')\n",
    "plt.show()"
   ]
  },
  {
   "cell_type": "code",
   "execution_count": null,
   "id": "61222172-bdae-4390-a7bf-8243ab525117",
   "metadata": {},
   "outputs": [],
   "source": []
  }
 ],
 "metadata": {
  "kernelspec": {
   "display_name": "Python 3 (ipykernel)",
   "language": "python",
   "name": "python3"
  },
  "language_info": {
   "codemirror_mode": {
    "name": "ipython",
    "version": 3
   },
   "file_extension": ".py",
   "mimetype": "text/x-python",
   "name": "python",
   "nbconvert_exporter": "python",
   "pygments_lexer": "ipython3",
   "version": "3.12.4"
  }
 },
 "nbformat": 4,
 "nbformat_minor": 5
}
