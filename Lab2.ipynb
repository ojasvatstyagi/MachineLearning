{
 "cells": [
  {
   "cell_type": "code",
   "execution_count": 148,
   "id": "2f87c60d-4481-42c7-a89b-69663e2d858f",
   "metadata": {},
   "outputs": [],
   "source": [
    "import pandas as pd\n",
    "import numpy as np"
   ]
  },
  {
   "cell_type": "code",
   "execution_count": 150,
   "id": "1b5c6208-6789-47ef-b2cc-41a1698e6f5e",
   "metadata": {},
   "outputs": [],
   "source": [
    "df = pd.read_excel(\"./Lab Session Data.xlsx\",sheet_name = None)"
   ]
  },
  {
   "cell_type": "code",
   "execution_count": 151,
   "id": "64d210e4-5f5a-4d7b-9b14-c4482fb6cd18",
   "metadata": {},
   "outputs": [
    {
     "data": {
      "text/html": [
       "<div>\n",
       "<style scoped>\n",
       "    .dataframe tbody tr th:only-of-type {\n",
       "        vertical-align: middle;\n",
       "    }\n",
       "\n",
       "    .dataframe tbody tr th {\n",
       "        vertical-align: top;\n",
       "    }\n",
       "\n",
       "    .dataframe thead th {\n",
       "        text-align: right;\n",
       "    }\n",
       "</style>\n",
       "<table border=\"1\" class=\"dataframe\">\n",
       "  <thead>\n",
       "    <tr style=\"text-align: right;\">\n",
       "      <th></th>\n",
       "      <th>Customer</th>\n",
       "      <th>Candies (#)</th>\n",
       "      <th>Mangoes (Kg)</th>\n",
       "      <th>Milk Packets (#)</th>\n",
       "      <th>Payment (Rs)</th>\n",
       "    </tr>\n",
       "  </thead>\n",
       "  <tbody>\n",
       "    <tr>\n",
       "      <th>0</th>\n",
       "      <td>C_1</td>\n",
       "      <td>20</td>\n",
       "      <td>6</td>\n",
       "      <td>2</td>\n",
       "      <td>386</td>\n",
       "    </tr>\n",
       "    <tr>\n",
       "      <th>1</th>\n",
       "      <td>C_2</td>\n",
       "      <td>16</td>\n",
       "      <td>3</td>\n",
       "      <td>6</td>\n",
       "      <td>289</td>\n",
       "    </tr>\n",
       "    <tr>\n",
       "      <th>2</th>\n",
       "      <td>C_3</td>\n",
       "      <td>27</td>\n",
       "      <td>6</td>\n",
       "      <td>2</td>\n",
       "      <td>393</td>\n",
       "    </tr>\n",
       "    <tr>\n",
       "      <th>3</th>\n",
       "      <td>C_4</td>\n",
       "      <td>19</td>\n",
       "      <td>1</td>\n",
       "      <td>2</td>\n",
       "      <td>110</td>\n",
       "    </tr>\n",
       "    <tr>\n",
       "      <th>4</th>\n",
       "      <td>C_5</td>\n",
       "      <td>24</td>\n",
       "      <td>4</td>\n",
       "      <td>2</td>\n",
       "      <td>280</td>\n",
       "    </tr>\n",
       "    <tr>\n",
       "      <th>5</th>\n",
       "      <td>C_6</td>\n",
       "      <td>22</td>\n",
       "      <td>1</td>\n",
       "      <td>5</td>\n",
       "      <td>167</td>\n",
       "    </tr>\n",
       "    <tr>\n",
       "      <th>6</th>\n",
       "      <td>C_7</td>\n",
       "      <td>15</td>\n",
       "      <td>4</td>\n",
       "      <td>2</td>\n",
       "      <td>271</td>\n",
       "    </tr>\n",
       "    <tr>\n",
       "      <th>7</th>\n",
       "      <td>C_8</td>\n",
       "      <td>18</td>\n",
       "      <td>4</td>\n",
       "      <td>2</td>\n",
       "      <td>274</td>\n",
       "    </tr>\n",
       "    <tr>\n",
       "      <th>8</th>\n",
       "      <td>C_9</td>\n",
       "      <td>21</td>\n",
       "      <td>1</td>\n",
       "      <td>4</td>\n",
       "      <td>148</td>\n",
       "    </tr>\n",
       "    <tr>\n",
       "      <th>9</th>\n",
       "      <td>C_10</td>\n",
       "      <td>16</td>\n",
       "      <td>2</td>\n",
       "      <td>4</td>\n",
       "      <td>198</td>\n",
       "    </tr>\n",
       "  </tbody>\n",
       "</table>\n",
       "</div>"
      ],
      "text/plain": [
       "  Customer  Candies (#)  Mangoes (Kg)  Milk Packets (#)  Payment (Rs)\n",
       "0      C_1           20             6                 2           386\n",
       "1      C_2           16             3                 6           289\n",
       "2      C_3           27             6                 2           393\n",
       "3      C_4           19             1                 2           110\n",
       "4      C_5           24             4                 2           280\n",
       "5      C_6           22             1                 5           167\n",
       "6      C_7           15             4                 2           271\n",
       "7      C_8           18             4                 2           274\n",
       "8      C_9           21             1                 4           148\n",
       "9     C_10           16             2                 4           198"
      ]
     },
     "execution_count": 151,
     "metadata": {},
     "output_type": "execute_result"
    }
   ],
   "source": [
    "pdata = df['Purchase data'].iloc[:,0:5]\n",
    "pdata"
   ]
  },
  {
   "cell_type": "code",
   "execution_count": 152,
   "id": "407c4071-3496-4e82-a6bf-f6c259b2b896",
   "metadata": {},
   "outputs": [
    {
     "data": {
      "text/plain": [
       "array([[20,  6,  2],\n",
       "       [16,  3,  6],\n",
       "       [27,  6,  2],\n",
       "       [19,  1,  2],\n",
       "       [24,  4,  2],\n",
       "       [22,  1,  5],\n",
       "       [15,  4,  2],\n",
       "       [18,  4,  2],\n",
       "       [21,  1,  4],\n",
       "       [16,  2,  4]], dtype=int64)"
      ]
     },
     "execution_count": 152,
     "metadata": {},
     "output_type": "execute_result"
    }
   ],
   "source": [
    "A = np.array(pdata.iloc[:,1:4])\n",
    "A"
   ]
  },
  {
   "cell_type": "code",
   "execution_count": 153,
   "id": "428a5b35-c4f4-43fb-a68d-7c0c84c21dfe",
   "metadata": {},
   "outputs": [
    {
     "data": {
      "text/plain": [
       "array([386, 289, 393, 110, 280, 167, 271, 274, 148, 198], dtype=int64)"
      ]
     },
     "execution_count": 153,
     "metadata": {},
     "output_type": "execute_result"
    }
   ],
   "source": [
    "C = np.array(pdata.iloc[:,4])\n",
    "C"
   ]
  },
  {
   "cell_type": "code",
   "execution_count": 154,
   "id": "f169a9eb-a9db-4b16-85e5-97c88584d38a",
   "metadata": {},
   "outputs": [
    {
     "name": "stdout",
     "output_type": "stream",
     "text": [
      "Dimensionality of the vector space: 3\n"
     ]
    }
   ],
   "source": [
    "# Dimensionality of the vector space\n",
    "dimensionality = A.shape[1]\n",
    "print(f\"Dimensionality of the vector space: {dimensionality}\")"
   ]
  },
  {
   "cell_type": "code",
   "execution_count": 155,
   "id": "b56f8717-1d2e-4d7f-a525-9e21572c2327",
   "metadata": {},
   "outputs": [
    {
     "name": "stdout",
     "output_type": "stream",
     "text": [
      "Number of vectors in the vector space: 10\n"
     ]
    }
   ],
   "source": [
    "# Number of vectors in the vector space\n",
    "num_vectors = A.shape[0]\n",
    "print(f\"Number of vectors in the vector space: {num_vectors}\")"
   ]
  },
  {
   "cell_type": "code",
   "execution_count": 156,
   "id": "2c80b994-1f73-4102-b16f-eea6999edddf",
   "metadata": {},
   "outputs": [
    {
     "name": "stdout",
     "output_type": "stream",
     "text": [
      "Rank of Matrix A: 3\n"
     ]
    }
   ],
   "source": [
    "# Rank of matrix A\n",
    "rank_A = np.linalg.matrix_rank(A)\n",
    "print(f\"Rank of Matrix A: {rank_A}\")"
   ]
  },
  {
   "cell_type": "code",
   "execution_count": 157,
   "id": "c5c3f59d-43d0-469f-81a6-227d9edcc9a9",
   "metadata": {},
   "outputs": [
    {
     "name": "stdout",
     "output_type": "stream",
     "text": [
      "Cost of each product: [ 1. 55. 18.]\n"
     ]
    }
   ],
   "source": [
    "# Pseudo-inverse of matrix A\n",
    "A_pseudo_inv = np.linalg.pinv(A)\n",
    "\n",
    "# Cost of each product\n",
    "X = np.dot(A_pseudo_inv, C)\n",
    "print(\"Cost of each product:\", X)"
   ]
  },
  {
   "cell_type": "code",
   "execution_count": 158,
   "id": "8466cc3b-ddd9-4bb3-9df2-8d2a0ca66ba7",
   "metadata": {},
   "outputs": [],
   "source": [
    "# Mark customers as RICH or POOR\n",
    "pdata['Category'] = np.where(pdata['Payment (Rs)'] > 200, 'RICH', 'POOR')\n",
    "\n",
    "# Prepare features and labels\n",
    "features = pdata.iloc[:, :-2].values\n",
    "labels = pdata['Category'].values"
   ]
  },
  {
   "cell_type": "code",
   "execution_count": 159,
   "id": "14c4cbdd-f244-47bc-be1d-7449b1a601a9",
   "metadata": {},
   "outputs": [
    {
     "name": "stdout",
     "output_type": "stream",
     "text": [
      "Mean of Price: 1560.6634538152612, Variance of Price: 58732.36535253922\n"
     ]
    }
   ],
   "source": [
    "# Load the IRCTC Stock Price data\n",
    "irctc_data = pd.read_excel(\"./Lab Session Data.xlsx\", sheet_name='IRCTC Stock Price')\n",
    "\n",
    "# Calculate mean and variance\n",
    "price_mean = irctc_data['Price'].mean()\n",
    "price_variance = irctc_data['Price'].var()\n",
    "print(f\"Mean of Price: {price_mean}, Variance of Price: {price_variance}\")"
   ]
  },
  {
   "cell_type": "code",
   "execution_count": 160,
   "id": "d6272b8d-3ec5-4a7a-a383-5f04b3898d31",
   "metadata": {},
   "outputs": [],
   "source": [
    "# Ensure the 'Date' column is in datetime format\n",
    "irctc_data['Date'] = pd.to_datetime(irctc_data['Date'])"
   ]
  },
  {
   "cell_type": "code",
   "execution_count": 161,
   "id": "029a2cbc-7a19-4108-8ae8-4e8b341fe023",
   "metadata": {},
   "outputs": [
    {
     "name": "stdout",
     "output_type": "stream",
     "text": [
      "Sample mean for Wednesdays: 1550.7060000000001\n"
     ]
    }
   ],
   "source": [
    "# Calculate sample mean for Wednesdays\n",
    "wednesday_data = irctc_data[irctc_data['Date'].dt.weekday == 2]\n",
    "wednesday_mean = wednesday_data['Price'].mean()\n",
    "print(f\"Sample mean for Wednesdays: {wednesday_mean}\")"
   ]
  },
  {
   "cell_type": "code",
   "execution_count": 162,
   "id": "ed1e49e9-725e-4c88-87cf-12d466f5a086",
   "metadata": {},
   "outputs": [
    {
     "name": "stdout",
     "output_type": "stream",
     "text": [
      "Sample mean for April: 1698.9526315789474\n"
     ]
    }
   ],
   "source": [
    "# Calculate sample mean for April\n",
    "april_data = irctc_data[irctc_data['Date'].dt.month == 4]\n",
    "april_mean = april_data['Price'].mean()\n",
    "print(f\"Sample mean for April: {april_mean}\")"
   ]
  },
  {
   "cell_type": "code",
   "execution_count": 163,
   "id": "3e20b701-0b33-44e0-9fb2-39a62bb4c6f6",
   "metadata": {},
   "outputs": [
    {
     "name": "stdout",
     "output_type": "stream",
     "text": [
      "Probability of making a loss: 0.4979919678714859\n",
      "Probability of making a profit on Wednesday: 0.42\n"
     ]
    }
   ],
   "source": [
    "# Probability of making a loss over the stock\n",
    "loss_prob = (irctc_data['Chg%'] < 0).mean()\n",
    "print(f\"Probability of making a loss: {loss_prob}\")\n",
    "\n",
    "# Probability of making a profit on Wednesday\n",
    "profit_wed_prob = (wednesday_data['Chg%'] > 0).mean()\n",
    "print(f\"Probability of making a profit on Wednesday: {profit_wed_prob}\")"
   ]
  },
  {
   "cell_type": "code",
   "execution_count": 164,
   "id": "3f879627-0e4e-4fc8-b9e5-79e8ae26499b",
   "metadata": {},
   "outputs": [
    {
     "name": "stdout",
     "output_type": "stream",
     "text": [
      "Conditional probability of making profit given it's Wednesday: 0.8433870967741935\n"
     ]
    }
   ],
   "source": [
    "# Conditional probability of making profit given that today is Wednesday\n",
    "conditional_prob = profit_wed_prob / (irctc_data['Chg%'] > 0).mean()\n",
    "print(f\"Conditional probability of making profit given it's Wednesday: {conditional_prob}\")"
   ]
  },
  {
   "cell_type": "code",
   "execution_count": 165,
   "id": "5645f46c-b2d4-47d7-bd54-c0521279f552",
   "metadata": {},
   "outputs": [],
   "source": [
    "# Scatter plot of Chg% data against the day of the week\n",
    "import seaborn as sns\n",
    "import matplotlib.pyplot as plt"
   ]
  },
  {
   "cell_type": "code",
   "execution_count": 166,
   "id": "b4c5823c-ef91-42f7-a705-1e7a7e011697",
   "metadata": {},
   "outputs": [
    {
     "data": {
      "image/png": "[encoded data removed]",
      "text/plain": [
       "<Figure size 640x480 with 1 Axes>"
      ]
     },
     "metadata": {},
     "output_type": "display_data"
    }
   ],
   "source": [
    "irctc_data['Day of Week'] = irctc_data['Date'].dt.day_name()\n",
    "sns.scatterplot(x='Day of Week', y='Chg%', data=irctc_data)\n",
    "plt.title('Chg% vs Day of the Week')\n",
    "plt.show()"
   ]
  },
  {
   "cell_type": "code",
   "execution_count": 171,
   "id": "3937d3e0-0041-4487-bd33-c9ecf922fed5",
   "metadata": {
    "scrolled": true
   },
   "outputs": [
    {
     "name": "stdout",
     "output_type": "stream",
     "text": [
      "Numeric Columns: Index(['Record ID', 'age'], dtype='object')\n",
      "\n",
      "Categorical Columns: Index(['sex', 'on thyroxine', 'query on thyroxine',\n",
      "       'on antithyroid medication', 'sick', 'pregnant', 'thyroid surgery',\n",
      "       'I131 treatment', 'query hypothyroid', 'query hyperthyroid', 'lithium',\n",
      "       'goitre', 'tumor', 'hypopituitary', 'psych', 'TSH measured', 'TSH',\n",
      "       'T3 measured', 'T3', 'TT4 measured', 'TT4', 'T4U measured', 'T4U',\n",
      "       'FTI measured', 'FTI', 'TBG measured', 'TBG', 'referral source',\n",
      "       'Condition'],\n",
      "      dtype='object')\n"
     ]
    }
   ],
   "source": [
    "# Load the thyroid data\n",
    "thyroid_data = pd.read_excel(file_path, sheet_name='thyroid0387_UCI')\n",
    "\n",
    "# Study each attribute\n",
    "numeric_columns = thyroid_data.select_dtypes(include=['number']).columns\n",
    "categorical_columns = thyroid_data.select_dtypes(include=['object']).columns\n",
    "\n",
    "print(\"Numeric Columns:\", numeric_columns)\n",
    "print()\n",
    "print(\"Categorical Columns:\", categorical_columns)"
   ]
  },
  {
   "cell_type": "code",
   "execution_count": 184,
   "id": "4de8d114-2291-4f7e-b55e-e92fefbe139e",
   "metadata": {},
   "outputs": [
    {
     "name": "stdout",
     "output_type": "stream",
     "text": [
      "          Record ID           age          TSH           T3          TT4  \\\n",
      "count  9.172000e+03   9172.000000  8330.000000  6568.000000  8730.000000   \n",
      "mean   8.529473e+08     73.555822     5.218403     1.970629   108.700305   \n",
      "std    7.581969e+06   1183.976718    24.184006     0.887579    37.522670   \n",
      "min    8.408010e+08      1.000000     0.005000     0.050000     2.000000   \n",
      "25%    8.504090e+08     37.000000     0.460000     1.500000    87.000000   \n",
      "50%    8.510040e+08     55.000000     1.400000     1.900000   104.000000   \n",
      "75%    8.607110e+08     68.000000     2.700000     2.300000   126.000000   \n",
      "max    8.701190e+08  65526.000000   530.000000    18.000000   600.000000   \n",
      "\n",
      "               T4U          FTI         TBG  \n",
      "count  8363.000000  8370.000000  349.000000  \n",
      "mean      0.976056   113.640746   29.870057  \n",
      "std       0.200360    41.551650   21.080504  \n",
      "min       0.170000     1.400000    0.100000  \n",
      "25%       0.860000    93.000000   21.000000  \n",
      "50%       0.960000   109.000000   26.000000  \n",
      "75%       1.065000   128.000000   31.000000  \n",
      "max       2.330000   881.000000  200.000000  \n"
     ]
    },
    {
     "name": "stderr",
     "output_type": "stream",
     "text": [
      "C:\\Users\\ojast\\AppData\\Local\\Temp\\ipykernel_7876\\3187923359.py:1: FutureWarning: Downcasting behavior in `replace` is deprecated and will be removed in a future version. To retain the old behavior, explicitly call `result.infer_objects(copy=False)`. To opt-in to the future behavior, set `pd.set_option('future.no_silent_downcasting', True)`\n",
      "  thyroid_data.replace(\"?\",np.nan,inplace = True)\n"
     ]
    }
   ],
   "source": [
    "thyroid_data.replace(\"?\",np.nan,inplace = True)\n",
    "\n",
    "# Study data range for numeric variables\n",
    "print(thyroid_data.describe())"
   ]
  },
  {
   "cell_type": "code",
   "execution_count": 186,
   "id": "488c01a6-6cfd-4aaf-a4b7-ce3f8cd6c463",
   "metadata": {},
   "outputs": [
    {
     "name": "stdout",
     "output_type": "stream",
     "text": [
      "Record ID                       0\n",
      "age                             0\n",
      "sex                           307\n",
      "on thyroxine                    0\n",
      "query on thyroxine              0\n",
      "on antithyroid medication       0\n",
      "sick                            0\n",
      "pregnant                        0\n",
      "thyroid surgery                 0\n",
      "I131 treatment                  0\n",
      "query hypothyroid               0\n",
      "query hyperthyroid              0\n",
      "lithium                         0\n",
      "goitre                          0\n",
      "tumor                           0\n",
      "hypopituitary                   0\n",
      "psych                           0\n",
      "TSH measured                    0\n",
      "TSH                           842\n",
      "T3 measured                     0\n",
      "T3                           2604\n",
      "TT4 measured                    0\n",
      "TT4                           442\n",
      "T4U measured                    0\n",
      "T4U                           809\n",
      "FTI measured                    0\n",
      "FTI                           802\n",
      "TBG measured                    0\n",
      "TBG                          8823\n",
      "referral source                 0\n",
      "Condition                       0\n",
      "dtype: int64\n"
     ]
    }
   ],
   "source": [
    "# Study presence of missing values\n",
    "missing_values = thyroid_data.isnull().sum()\n",
    "print(missing_values)"
   ]
  },
  {
   "cell_type": "code",
   "execution_count": 187,
   "id": "379f58e7-d864-4de0-8347-d3c5497a0486",
   "metadata": {},
   "outputs": [
    {
     "data": {
      "image/png": "[encoded data removed]",
      "text/plain": [
       "<Figure size 640x480 with 1 Axes>"
      ]
     },
     "metadata": {},
     "output_type": "display_data"
    },
    {
     "data": {
      "image/png": "[encoded data removed]",
      "text/plain": [
       "<Figure size 640x480 with 1 Axes>"
      ]
     },
     "metadata": {},
     "output_type": "display_data"
    },
    {
     "data": {
      "image/png": "[encoded data removed]",
      "text/plain": [
       "<Figure size 640x480 with 1 Axes>"
      ]
     },
     "metadata": {},
     "output_type": "display_data"
    },
    {
     "data": {
      "image/png": "[encoded data removed]",
      "text/plain": [
       "<Figure size 640x480 with 1 Axes>"
      ]
     },
     "metadata": {},
     "output_type": "display_data"
    },
    {
     "data": {
      "image/png": "[encoded data removed]",
      "text/plain": [
       "<Figure size 640x480 with 1 Axes>"
      ]
     },
     "metadata": {},
     "output_type": "display_data"
    },
    {
     "data": {
      "image/png": "[encoded data removed]",
      "text/plain": [
       "<Figure size 640x480 with 1 Axes>"
      ]
     },
     "metadata": {},
     "output_type": "display_data"
    },
    {
     "data": {
      "image/png": "[encoded data removed]",
      "text/plain": [
       "<Figure size 640x480 with 1 Axes>"
      ]
     },
     "metadata": {},
     "output_type": "display_data"
    },
    {
     "data": {
      "image/png": "[encoded data removed]",
      "text/plain": [
       "<Figure size 640x480 with 1 Axes>"
      ]
     },
     "metadata": {},
     "output_type": "display_data"
    }
   ],
   "source": [
    "# Study presence of outliers\n",
    "import seaborn as sns\n",
    "\n",
    "for column in thyroid_data.select_dtypes(include=['float64', 'int64']).columns:\n",
    "    sns.boxplot(thyroid_data[column])\n",
    "    plt.show()"
   ]
  },
  {
   "cell_type": "code",
   "execution_count": 188,
   "id": "70b8afc5-3a8a-4a41-8b5e-74115438fad7",
   "metadata": {},
   "outputs": [
    {
     "name": "stdout",
     "output_type": "stream",
     "text": [
      "Record ID - Mean: 852947346.6122983,\n",
      " Variance: 57486250586150.34 \n",
      "\n",
      "age - Mean: 73.55582206716092,\n",
      " Variance: 1401800.8688713463 \n",
      "\n",
      "TSH - Mean: 5.218402753781513,\n",
      " Variance: 584.866153209295 \n",
      "\n",
      "T3 - Mean: 1.970628805724726,\n",
      " Variance: 0.7877961683561565 \n",
      "\n",
      "TT4 - Mean: 108.70030469644902,\n",
      " Variance: 1407.950791475491 \n",
      "\n",
      "T4U - Mean: 0.9760557216309935,\n",
      " Variance: 0.04014430639006391 \n",
      "\n",
      "FTI - Mean: 113.64074551935484,\n",
      " Variance: 1726.539585061158 \n",
      "\n",
      "TBG - Mean: 29.87005729512894,\n",
      " Variance: 444.38764299946627 \n",
      "\n"
     ]
    }
   ],
   "source": [
    "# Calculate mean and variance\n",
    "numeric_columns = thyroid_data.select_dtypes(include=['number'])\n",
    "for column in numeric_columns.columns:\n",
    "    print(f\"{column} - Mean: {numeric_columns[column].mean()},\\n Variance: {numeric_columns[column].var()} \\n\")"
   ]
  },
  {
   "cell_type": "code",
   "execution_count": 196,
   "id": "7757d79b-550d-47be-8d98-12391bfe06d0",
   "metadata": {},
   "outputs": [
    {
     "data": {
      "text/html": [
       "<div>\n",
       "<style scoped>\n",
       "    .dataframe tbody tr th:only-of-type {\n",
       "        vertical-align: middle;\n",
       "    }\n",
       "\n",
       "    .dataframe tbody tr th {\n",
       "        vertical-align: top;\n",
       "    }\n",
       "\n",
       "    .dataframe thead th {\n",
       "        text-align: right;\n",
       "    }\n",
       "</style>\n",
       "<table border=\"1\" class=\"dataframe\">\n",
       "  <thead>\n",
       "    <tr style=\"text-align: right;\">\n",
       "      <th></th>\n",
       "      <th>Record ID</th>\n",
       "      <th>age</th>\n",
       "      <th>sex</th>\n",
       "      <th>on thyroxine</th>\n",
       "      <th>query on thyroxine</th>\n",
       "      <th>on antithyroid medication</th>\n",
       "      <th>sick</th>\n",
       "      <th>pregnant</th>\n",
       "      <th>thyroid surgery</th>\n",
       "      <th>I131 treatment</th>\n",
       "      <th>...</th>\n",
       "      <th>TT4 measured</th>\n",
       "      <th>TT4</th>\n",
       "      <th>T4U measured</th>\n",
       "      <th>T4U</th>\n",
       "      <th>FTI measured</th>\n",
       "      <th>FTI</th>\n",
       "      <th>TBG measured</th>\n",
       "      <th>TBG</th>\n",
       "      <th>referral source</th>\n",
       "      <th>Condition</th>\n",
       "    </tr>\n",
       "  </thead>\n",
       "  <tbody>\n",
       "    <tr>\n",
       "      <th>0</th>\n",
       "      <td>840801013</td>\n",
       "      <td>29</td>\n",
       "      <td>F</td>\n",
       "      <td>f</td>\n",
       "      <td>f</td>\n",
       "      <td>f</td>\n",
       "      <td>f</td>\n",
       "      <td>f</td>\n",
       "      <td>f</td>\n",
       "      <td>f</td>\n",
       "      <td>...</td>\n",
       "      <td>f</td>\n",
       "      <td>104.0</td>\n",
       "      <td>f</td>\n",
       "      <td>0.96</td>\n",
       "      <td>f</td>\n",
       "      <td>109.0</td>\n",
       "      <td>f</td>\n",
       "      <td>26.0</td>\n",
       "      <td>other</td>\n",
       "      <td>NO CONDITION</td>\n",
       "    </tr>\n",
       "    <tr>\n",
       "      <th>1</th>\n",
       "      <td>840801014</td>\n",
       "      <td>29</td>\n",
       "      <td>F</td>\n",
       "      <td>f</td>\n",
       "      <td>f</td>\n",
       "      <td>f</td>\n",
       "      <td>f</td>\n",
       "      <td>f</td>\n",
       "      <td>f</td>\n",
       "      <td>f</td>\n",
       "      <td>...</td>\n",
       "      <td>t</td>\n",
       "      <td>128.0</td>\n",
       "      <td>f</td>\n",
       "      <td>0.96</td>\n",
       "      <td>f</td>\n",
       "      <td>109.0</td>\n",
       "      <td>f</td>\n",
       "      <td>26.0</td>\n",
       "      <td>other</td>\n",
       "      <td>NO CONDITION</td>\n",
       "    </tr>\n",
       "    <tr>\n",
       "      <th>2</th>\n",
       "      <td>840801042</td>\n",
       "      <td>41</td>\n",
       "      <td>F</td>\n",
       "      <td>f</td>\n",
       "      <td>f</td>\n",
       "      <td>f</td>\n",
       "      <td>f</td>\n",
       "      <td>f</td>\n",
       "      <td>f</td>\n",
       "      <td>f</td>\n",
       "      <td>...</td>\n",
       "      <td>f</td>\n",
       "      <td>104.0</td>\n",
       "      <td>f</td>\n",
       "      <td>0.96</td>\n",
       "      <td>f</td>\n",
       "      <td>109.0</td>\n",
       "      <td>t</td>\n",
       "      <td>11.0</td>\n",
       "      <td>other</td>\n",
       "      <td>NO CONDITION</td>\n",
       "    </tr>\n",
       "    <tr>\n",
       "      <th>3</th>\n",
       "      <td>840803046</td>\n",
       "      <td>36</td>\n",
       "      <td>F</td>\n",
       "      <td>f</td>\n",
       "      <td>f</td>\n",
       "      <td>f</td>\n",
       "      <td>f</td>\n",
       "      <td>f</td>\n",
       "      <td>f</td>\n",
       "      <td>f</td>\n",
       "      <td>...</td>\n",
       "      <td>f</td>\n",
       "      <td>104.0</td>\n",
       "      <td>f</td>\n",
       "      <td>0.96</td>\n",
       "      <td>f</td>\n",
       "      <td>109.0</td>\n",
       "      <td>t</td>\n",
       "      <td>26.0</td>\n",
       "      <td>other</td>\n",
       "      <td>NO CONDITION</td>\n",
       "    </tr>\n",
       "    <tr>\n",
       "      <th>4</th>\n",
       "      <td>840803047</td>\n",
       "      <td>32</td>\n",
       "      <td>F</td>\n",
       "      <td>f</td>\n",
       "      <td>f</td>\n",
       "      <td>f</td>\n",
       "      <td>f</td>\n",
       "      <td>f</td>\n",
       "      <td>f</td>\n",
       "      <td>f</td>\n",
       "      <td>...</td>\n",
       "      <td>f</td>\n",
       "      <td>104.0</td>\n",
       "      <td>f</td>\n",
       "      <td>0.96</td>\n",
       "      <td>f</td>\n",
       "      <td>109.0</td>\n",
       "      <td>t</td>\n",
       "      <td>36.0</td>\n",
       "      <td>other</td>\n",
       "      <td>S</td>\n",
       "    </tr>\n",
       "  </tbody>\n",
       "</table>\n",
       "<p>5 rows × 31 columns</p>\n",
       "</div>"
      ],
      "text/plain": [
       "   Record ID  age sex on thyroxine query on thyroxine  \\\n",
       "0  840801013   29   F            f                  f   \n",
       "1  840801014   29   F            f                  f   \n",
       "2  840801042   41   F            f                  f   \n",
       "3  840803046   36   F            f                  f   \n",
       "4  840803047   32   F            f                  f   \n",
       "\n",
       "  on antithyroid medication sick pregnant thyroid surgery I131 treatment  ...  \\\n",
       "0                         f    f        f               f              f  ...   \n",
       "1                         f    f        f               f              f  ...   \n",
       "2                         f    f        f               f              f  ...   \n",
       "3                         f    f        f               f              f  ...   \n",
       "4                         f    f        f               f              f  ...   \n",
       "\n",
       "  TT4 measured    TT4 T4U measured   T4U FTI measured    FTI TBG measured  \\\n",
       "0            f  104.0            f  0.96            f  109.0            f   \n",
       "1            t  128.0            f  0.96            f  109.0            f   \n",
       "2            f  104.0            f  0.96            f  109.0            t   \n",
       "3            f  104.0            f  0.96            f  109.0            t   \n",
       "4            f  104.0            f  0.96            f  109.0            t   \n",
       "\n",
       "    TBG  referral source     Condition  \n",
       "0  26.0            other  NO CONDITION  \n",
       "1  26.0            other  NO CONDITION  \n",
       "2  11.0            other  NO CONDITION  \n",
       "3  26.0            other  NO CONDITION  \n",
       "4  36.0            other             S  \n",
       "\n",
       "[5 rows x 31 columns]"
      ]
     },
     "execution_count": 196,
     "metadata": {},
     "output_type": "execute_result"
    }
   ],
   "source": [
    "# Impute missing values\n",
    "for column in thyroid_data.columns:\n",
    "    if thyroid_data[column].isnull().sum() > 0:\n",
    "        if thyroid_data[column].dtype == 'object':\n",
    "            thyroid_data[column].fillna(thyroid_data[column].mode()[0], inplace=True)\n",
    "        else:\n",
    "            if thyroid_data[column].nunique() > 10:  # assuming outliers present if unique values > 10\n",
    "                thyroid_data[column].fillna(thyroid_data[column].median(), inplace=True)\n",
    "            else:\n",
    "                thyroid_data[column].fillna(thyroid_data[column].mean(), inplace=True)\n",
    "thyroid_data.head()"
   ]
  }
 ],
 "metadata": {
  "kernelspec": {
   "display_name": "Python 3 (ipykernel)",
   "language": "python",
   "name": "python3"
  },
  "language_info": {
   "codemirror_mode": {
    "name": "ipython",
    "version": 3
   },
   "file_extension": ".py",
   "mimetype": "text/x-python",
   "name": "python",
   "nbconvert_exporter": "python",
   "pygments_lexer": "ipython3",
   "version": "3.12.4"
  }
 },
 "nbformat": 4,
 "nbformat_minor": 5
}
