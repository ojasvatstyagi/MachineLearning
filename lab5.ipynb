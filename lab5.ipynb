{
 "cells": [
  {
   "cell_type": "code",
   "execution_count": 2,
   "id": "8bcbef7f-ebc9-48ca-b813-5299b0d2af39",
   "metadata": {},
   "outputs": [],
   "source": [
    "import pandas as pd\n",
    "import numpy as np"
   ]
  },
  {
   "cell_type": "code",
   "execution_count": 4,
   "id": "a29d761d-2872-4ced-b5fc-bffb29f33fe7",
   "metadata": {},
   "outputs": [
    {
     "name": "stdout",
     "output_type": "stream",
     "text": [
      "[[ 0.04036511  0.20482703  0.08136609 ... -0.76152337 -0.16404587\n",
      "  -0.33827469]\n",
      " [-3.78664969 -0.85732257 -0.64136295 ...  6.64188293  0.66995817\n",
      "   1.42927037]\n",
      " [ 0.23011285 -1.66387014 -1.14345143 ...  2.04646192 -0.54857471\n",
      "   0.29268756]\n",
      " ...\n",
      " [-0.45464965  0.79339726  0.15163465 ... -0.29263011 -0.16794799\n",
      "  -0.2377603 ]\n",
      " [ 0.23011285 -1.66387014 -1.14345143 ...  2.04646192 -0.54857471\n",
      "   0.29268756]\n",
      " [ 0.5070621  -0.19850132 -2.1412226  ...  0.14741436 -0.83451633\n",
      "   2.87127635]]\n"
     ]
    }
   ],
   "source": [
    "# Load the dataset\n",
    "df1 = pd.read_csv('English_Abstractive.csv')\n",
    "\n",
    "from sklearn.model_selection import train_test_split\n",
    "\n",
    "# Separating features and labels\n",
    "x = df1.iloc[:, :-1].values  # Feature vectors\n",
    "y = df1['Judgement Status'].values  # Labels\n",
    "\n",
    "# Splitting the dataset\n",
    "x_train, x_test, y_train, y_test = train_test_split(x, y, test_size=0.3, random_state=42)\n",
    "\n",
    "from sklearn.model_selection import train_test_split\n",
    "from sklearn.preprocessing import StandardScaler\n",
    "\n",
    "# Initialize the StandardScaler\n",
    "scaler = StandardScaler()\n",
    "\n",
    "# Fit the scaler on the training data and transform it\n",
    "x_train_scaled = scaler.fit_transform(x_train)\n",
    "\n",
    "x_test_scaled = scaler.transform(x_test)\n",
    "print(x_train_scaled)"
   ]
  },
  {
   "cell_type": "code",
   "execution_count": 5,
   "id": "658981bb-0908-4cde-9345-12538d2f3fa7",
   "metadata": {},
   "outputs": [],
   "source": [
    "from sklearn.linear_model import LinearRegression\n",
    "\n",
    "# Select one attribute (column) from x_train\n",
    "x_train_single = x_train[:, [0]]  # Selecting the first attribute\n",
    "\n",
    "# Train the Linear Regression model\n",
    "reg = LinearRegression().fit(x_train_single, y_train)\n",
    "\n",
    "# Make predictions on the training data\n",
    "y_train_pred = reg.predict(x_train_single)\n"
   ]
  },
  {
   "cell_type": "code",
   "execution_count": 6,
   "id": "88a00958-0dc2-411d-9288-60118531b30f",
   "metadata": {},
   "outputs": [
    {
     "name": "stdout",
     "output_type": "stream",
     "text": [
      "MSE: 1.1370710287246588\n",
      "RMSE: 1.0663353265857127\n",
      "MAPE: 1457670920720964.0\n",
      "R2 Score: 0.01112071650834523\n"
     ]
    }
   ],
   "source": [
    "from sklearn.metrics import mean_squared_error, r2_score, mean_absolute_percentage_error\n",
    "import numpy as np\n",
    "def evaluate_model(y_true, y_pred):\n",
    "    mse = mean_squared_error(y_true, y_pred)\n",
    "    rmse = np.sqrt(mse)\n",
    "    mape = mean_absolute_percentage_error(y_true, y_pred)\n",
    "    r2 = r2_score(y_true, y_pred)\n",
    "    \n",
    "    return {\n",
    "        \"MSE\": mse,\n",
    "        \"RMSE\": rmse,\n",
    "        \"MAPE\": mape,\n",
    "        \"R2 Score\": r2\n",
    "    }\n",
    "train_metrics = evaluate_model(y_train, y_train_pred)\n",
    "    \n",
    "# Print the training metrics\n",
    "for metric, value in train_metrics.items():\n",
    "    print(f\"{metric}: {value}\")"
   ]
  },
  {
   "cell_type": "code",
   "execution_count": 7,
   "id": "2ddc36fd-991a-4a4a-aad6-75832a7c493c",
   "metadata": {},
   "outputs": [
    {
     "name": "stdout",
     "output_type": "stream",
     "text": [
      "MSE: 1.254182684501505\n",
      "RMSE: 1.1199029799502744\n",
      "MAPE: 1970291408967648.0\n",
      "R2 Score: -0.027732592575653525\n"
     ]
    }
   ],
   "source": [
    "x_test_single = x_test[:, [0]]  # Selecting the same attribute from test set\n",
    "y_test_pred = reg.predict(x_test_single)\n",
    "\n",
    "train_metrics = evaluate_model(y_test, y_test_pred)\n",
    "    \n",
    "# Print the training metrics\n",
    "for metric, value in train_metrics.items():\n",
    "    print(f\"{metric}: {value}\")"
   ]
  },
  {
   "cell_type": "code",
   "execution_count": 8,
   "id": "20c40118-7467-426d-bb22-ab8278ce3015",
   "metadata": {},
   "outputs": [
    {
     "name": "stdout",
     "output_type": "stream",
     "text": [
      "MSE: 0.7648200718929705\n",
      "RMSE: 0.8745399201254169\n",
      "MAPE: 1050751871093125.4\n",
      "R2 Score: 0.3348570972370647\n",
      "\n",
      "MSE: 1.5173254779387917e+26\n",
      "RMSE: 12317976611192.244\n",
      "MAPE: 7.228850283215114e+27\n",
      "R2 Score: -1.2433634003190989e+26\n"
     ]
    }
   ],
   "source": [
    "# Using all attributes in X_train\n",
    "reg_all = LinearRegression().fit(x_train, y_train)\n",
    "\n",
    "# Make predictions and calculate metrics\n",
    "y_train_pred_all = reg_all.predict(x_train)\n",
    "y_test_pred_all = reg_all.predict(x_test)\n",
    "\n",
    "train_metrics = evaluate_model(y_train, y_train_pred_all)\n",
    "    \n",
    "# Print the training metrics\n",
    "for metric, value in train_metrics.items():\n",
    "    print(f\"{metric}: {value}\")\n",
    "\n",
    "print()\n",
    "train_metrics = evaluate_model(y_test, y_test_pred_all)\n",
    "    \n",
    "# Print the training metrics\n",
    "for metric, value in train_metrics.items():\n",
    "    print(f\"{metric}: {value}\")"
   ]
  },
  {
   "cell_type": "code",
   "execution_count": 14,
   "id": "0ef43e9c-30a1-4379-a6f6-eed99e947051",
   "metadata": {},
   "outputs": [
    {
     "name": "stdout",
     "output_type": "stream",
     "text": [
      "Labels: [0 1 1 0 0 1 2 0 0 0 1 0 1 1 1 0 0 1 2 2 0 1 0 0 0 2 1 0 1 1 2 0 0 0 0 0 1\n",
      " 0 0 0 0 0 1 0 1 1 2 0 1 0 0 0 2 1 0 1 0 2 2 2 0 2 2 0 0 0 0 0 0 0 2 2 1 0\n",
      " 0 1 0 2 0 0 1 1 0 0 1 1 0 1 1 0 0 1 2 0 0 2 0 0 1 2 0 1 0 1 0 1 1 0 2 0 0\n",
      " 1 0 0 1 0 0 0 2 1 2 0 1 0 1 2 1 0 1 1 1 1 0 1 0 0 0 2 0 0 1 0 0 2 0 0 0 0\n",
      " 0 0 1 0 1 0 0 3 0 0 0 0 1 0 1 0 2 0 0 0 0 0 1 1 1 0 0 0 1 0 1 1 0 0 1 1 1\n",
      " 0 1 0 1 1 1 2 0 0 0 1 0 2 1 1 0 1 1 0 1 2 1 1 0 0 0 0 0 0 0 1 1 1 3 1 0 0\n",
      " 0 1 1 1 2 0 0 0 0 1 0 1 0 1 1 1 0 2 0 0 0 1 1 1 3 1 1 1 0 0 0 1 3 0 1 2 1\n",
      " 1 2 0 0 1 0 1 0 1 0 2 1 0 0 0 0 1 0 1 1 1 2 1 1 1 2 0 1 1 0 0 1 1 0 0 0 1\n",
      " 0 1 1 1 0 3 1 0 0 1 0 1 0 0 1 0 0 0 0 0 1 0 0 0 1 0 0 2 1 2 2 1 0 2 1 0 2\n",
      " 1 0 0 0 2 0 0 0 0 2 0 0 0 0 0 1 0 1 0 1 0 0 0 1 0 2 2 2 0 1 1 0 1 2 0 2 0\n",
      " 0 0 0 2 2 1 0 1 0 0 0 1 2 1 0 1 0 0 0 0 1 1 0 0 0 1 1 0 1 1 0 2 1 0 1 3 1\n",
      " 1 1 0 0 1 1 3 1 1 0 1 1 1]\n",
      "\n",
      "Cluster Centers: [[-0.01014063  0.02378678  0.00301939 ...  0.04548866 -0.01419865\n",
      "  -0.00632731]\n",
      " [-0.01330949 -0.06406001 -0.01854241 ...  0.33194847 -0.02368912\n",
      "   0.0305485 ]\n",
      " [-0.02103942 -0.05568278  0.11837626 ... -0.04831977  0.06544632\n",
      "   0.16492539]\n",
      " [ 0.01903292 -0.13219184 -0.11304609 ...  0.25602981 -0.02254493\n",
      "   0.05266427]]\n"
     ]
    },
    {
     "name": "stderr",
     "output_type": "stream",
     "text": [
      "C:\\Users\\ojast\\anaconda3\\Lib\\site-packages\\sklearn\\cluster\\_kmeans.py:1429: UserWarning: KMeans is known to have a memory leak on Windows with MKL, when there are less chunks than available threads. You can avoid it by setting the environment variable OMP_NUM_THREADS=2.\n",
      "  warnings.warn(\n"
     ]
    }
   ],
   "source": [
    "from sklearn.cluster import KMeans\n",
    "\n",
    "# Fit KMeans clustering (excluding the target variable)\n",
    "kmeans = KMeans(n_clusters=4, random_state=0, n_init=\"auto\").fit(x_train)\n",
    "\n",
    "# Output labels and cluster centers\n",
    "labels = kmeans.labels_\n",
    "centers = kmeans.cluster_centers_\n",
    "\n",
    "print(f\"Labels: {labels}\")\n",
    "print()\n",
    "print(f\"Cluster Centers: {centers}\")"
   ]
  },
  {
   "cell_type": "code",
   "execution_count": 16,
   "id": "b586890e-0062-4797-9cab-fb2ed5d75441",
   "metadata": {},
   "outputs": [
    {
     "name": "stdout",
     "output_type": "stream",
     "text": [
      "Silhouette Score: 0.31194806889291415\n",
      "CH Score: 82.65659656137225\n",
      "DB Index: 1.4424362949511027\n"
     ]
    }
   ],
   "source": [
    "from sklearn.metrics import silhouette_score, calinski_harabasz_score, davies_bouldin_score\n",
    "\n",
    "# Calculate Silhouette Score\n",
    "silhouette = silhouette_score(x_train, kmeans.labels_)\n",
    "\n",
    "# Calculate Calinski-Harabasz Score (CH Score)\n",
    "ch_score = calinski_harabasz_score(x_train, kmeans.labels_)\n",
    "\n",
    "# Calculate Davies-Bouldin Index (DB Index)\n",
    "db_index = davies_bouldin_score(x_train, kmeans.labels_)\n",
    "\n",
    "print(f\"Silhouette Score: {silhouette}\")\n",
    "print(f\"CH Score: {ch_score}\")\n",
    "print(f\"DB Index: {db_index}\")"
   ]
  },
  {
   "cell_type": "code",
   "execution_count": 18,
   "id": "4f2e2e91-e505-4781-bd03-8f25fb04075f",
   "metadata": {},
   "outputs": [
    {
     "name": "stderr",
     "output_type": "stream",
     "text": [
      "C:\\Users\\ojast\\anaconda3\\Lib\\site-packages\\sklearn\\cluster\\_kmeans.py:1429: UserWarning: KMeans is known to have a memory leak on Windows with MKL, when there are less chunks than available threads. You can avoid it by setting the environment variable OMP_NUM_THREADS=2.\n",
      "  warnings.warn(\n",
      "C:\\Users\\ojast\\anaconda3\\Lib\\site-packages\\sklearn\\cluster\\_kmeans.py:1429: UserWarning: KMeans is known to have a memory leak on Windows with MKL, when there are less chunks than available threads. You can avoid it by setting the environment variable OMP_NUM_THREADS=2.\n",
      "  warnings.warn(\n",
      "C:\\Users\\ojast\\anaconda3\\Lib\\site-packages\\sklearn\\cluster\\_kmeans.py:1429: UserWarning: KMeans is known to have a memory leak on Windows with MKL, when there are less chunks than available threads. You can avoid it by setting the environment variable OMP_NUM_THREADS=2.\n",
      "  warnings.warn(\n",
      "C:\\Users\\ojast\\anaconda3\\Lib\\site-packages\\sklearn\\cluster\\_kmeans.py:1429: UserWarning: KMeans is known to have a memory leak on Windows with MKL, when there are less chunks than available threads. You can avoid it by setting the environment variable OMP_NUM_THREADS=2.\n",
      "  warnings.warn(\n",
      "C:\\Users\\ojast\\anaconda3\\Lib\\site-packages\\sklearn\\cluster\\_kmeans.py:1429: UserWarning: KMeans is known to have a memory leak on Windows with MKL, when there are less chunks than available threads. You can avoid it by setting the environment variable OMP_NUM_THREADS=2.\n",
      "  warnings.warn(\n",
      "C:\\Users\\ojast\\anaconda3\\Lib\\site-packages\\sklearn\\cluster\\_kmeans.py:1429: UserWarning: KMeans is known to have a memory leak on Windows with MKL, when there are less chunks than available threads. You can avoid it by setting the environment variable OMP_NUM_THREADS=2.\n",
      "  warnings.warn(\n",
      "C:\\Users\\ojast\\anaconda3\\Lib\\site-packages\\sklearn\\cluster\\_kmeans.py:1429: UserWarning: KMeans is known to have a memory leak on Windows with MKL, when there are less chunks than available threads. You can avoid it by setting the environment variable OMP_NUM_THREADS=2.\n",
      "  warnings.warn(\n",
      "C:\\Users\\ojast\\anaconda3\\Lib\\site-packages\\sklearn\\cluster\\_kmeans.py:1429: UserWarning: KMeans is known to have a memory leak on Windows with MKL, when there are less chunks than available threads. You can avoid it by setting the environment variable OMP_NUM_THREADS=2.\n",
      "  warnings.warn(\n"
     ]
    },
    {
     "name": "stdout",
     "output_type": "stream",
     "text": [
      "k = 2: Silhouette = 0.03714985126711369, CH Score = 2.8423344449910006, DB Index = 0.9091259855646955\n",
      "k = 3: Silhouette = 0.1724455512238192, CH Score = 63.38359655518486, DB Index = 0.9936548661800652\n",
      "k = 4: Silhouette = 0.29061243883605264, CH Score = 86.81177207975776, DB Index = 1.0506785965084637\n",
      "k = 5: Silhouette = 0.3504988381079284, CH Score = 86.66913668089295, DB Index = 1.5810488013045756\n",
      "k = 6: Silhouette = 0.35784129919046453, CH Score = 71.58214838934968, DB Index = 1.471175341938004\n",
      "k = 7: Silhouette = 0.3895832265260708, CH Score = 72.04370509927269, DB Index = 1.3296650869978808\n",
      "k = 8: Silhouette = 0.4101176003516989, CH Score = 79.11319943527323, DB Index = 1.2279228077614475\n",
      "k = 9: Silhouette = 0.38529680970846264, CH Score = 82.1391208630866, DB Index = 1.2326524912481718\n"
     ]
    }
   ],
   "source": [
    "scores = []\n",
    "for k in range(2, 10):  # You can expand the range as needed\n",
    "    kmeans = KMeans(n_clusters=k, random_state=42).fit(x_train)\n",
    "    silhouette = silhouette_score(x_train, kmeans.labels_)\n",
    "    ch_score = calinski_harabasz_score(x_train, kmeans.labels_)\n",
    "    db_index = davies_bouldin_score(x_train, kmeans.labels_)\n",
    "    scores.append((k, silhouette, ch_score, db_index))\n",
    "\n",
    "# Print the scores\n",
    "for score in scores:\n",
    "    print(f\"k = {score[0]}: Silhouette = {score[1]}, CH Score = {score[2]}, DB Index = {score[3]}\")\n"
   ]
  },
  {
   "cell_type": "code",
   "execution_count": 20,
   "id": "2eed4668-2cab-4dfe-b282-5be07521240d",
   "metadata": {},
   "outputs": [
    {
     "name": "stderr",
     "output_type": "stream",
     "text": [
      "C:\\Users\\ojast\\anaconda3\\Lib\\site-packages\\sklearn\\cluster\\_kmeans.py:1429: UserWarning: KMeans is known to have a memory leak on Windows with MKL, when there are less chunks than available threads. You can avoid it by setting the environment variable OMP_NUM_THREADS=2.\n",
      "  warnings.warn(\n",
      "C:\\Users\\ojast\\anaconda3\\Lib\\site-packages\\sklearn\\cluster\\_kmeans.py:1429: UserWarning: KMeans is known to have a memory leak on Windows with MKL, when there are less chunks than available threads. You can avoid it by setting the environment variable OMP_NUM_THREADS=2.\n",
      "  warnings.warn(\n",
      "C:\\Users\\ojast\\anaconda3\\Lib\\site-packages\\sklearn\\cluster\\_kmeans.py:1429: UserWarning: KMeans is known to have a memory leak on Windows with MKL, when there are less chunks than available threads. You can avoid it by setting the environment variable OMP_NUM_THREADS=2.\n",
      "  warnings.warn(\n",
      "C:\\Users\\ojast\\anaconda3\\Lib\\site-packages\\sklearn\\cluster\\_kmeans.py:1429: UserWarning: KMeans is known to have a memory leak on Windows with MKL, when there are less chunks than available threads. You can avoid it by setting the environment variable OMP_NUM_THREADS=2.\n",
      "  warnings.warn(\n",
      "C:\\Users\\ojast\\anaconda3\\Lib\\site-packages\\sklearn\\cluster\\_kmeans.py:1429: UserWarning: KMeans is known to have a memory leak on Windows with MKL, when there are less chunks than available threads. You can avoid it by setting the environment variable OMP_NUM_THREADS=2.\n",
      "  warnings.warn(\n",
      "C:\\Users\\ojast\\anaconda3\\Lib\\site-packages\\sklearn\\cluster\\_kmeans.py:1429: UserWarning: KMeans is known to have a memory leak on Windows with MKL, when there are less chunks than available threads. You can avoid it by setting the environment variable OMP_NUM_THREADS=2.\n",
      "  warnings.warn(\n",
      "C:\\Users\\ojast\\anaconda3\\Lib\\site-packages\\sklearn\\cluster\\_kmeans.py:1429: UserWarning: KMeans is known to have a memory leak on Windows with MKL, when there are less chunks than available threads. You can avoid it by setting the environment variable OMP_NUM_THREADS=2.\n",
      "  warnings.warn(\n",
      "C:\\Users\\ojast\\anaconda3\\Lib\\site-packages\\sklearn\\cluster\\_kmeans.py:1429: UserWarning: KMeans is known to have a memory leak on Windows with MKL, when there are less chunks than available threads. You can avoid it by setting the environment variable OMP_NUM_THREADS=2.\n",
      "  warnings.warn(\n",
      "C:\\Users\\ojast\\anaconda3\\Lib\\site-packages\\sklearn\\cluster\\_kmeans.py:1429: UserWarning: KMeans is known to have a memory leak on Windows with MKL, when there are less chunks than available threads. You can avoid it by setting the environment variable OMP_NUM_THREADS=2.\n",
      "  warnings.warn(\n",
      "C:\\Users\\ojast\\anaconda3\\Lib\\site-packages\\sklearn\\cluster\\_kmeans.py:1429: UserWarning: KMeans is known to have a memory leak on Windows with MKL, when there are less chunks than available threads. You can avoid it by setting the environment variable OMP_NUM_THREADS=2.\n",
      "  warnings.warn(\n",
      "C:\\Users\\ojast\\anaconda3\\Lib\\site-packages\\sklearn\\cluster\\_kmeans.py:1429: UserWarning: KMeans is known to have a memory leak on Windows with MKL, when there are less chunks than available threads. You can avoid it by setting the environment variable OMP_NUM_THREADS=2.\n",
      "  warnings.warn(\n",
      "C:\\Users\\ojast\\anaconda3\\Lib\\site-packages\\sklearn\\cluster\\_kmeans.py:1429: UserWarning: KMeans is known to have a memory leak on Windows with MKL, when there are less chunks than available threads. You can avoid it by setting the environment variable OMP_NUM_THREADS=2.\n",
      "  warnings.warn(\n",
      "C:\\Users\\ojast\\anaconda3\\Lib\\site-packages\\sklearn\\cluster\\_kmeans.py:1429: UserWarning: KMeans is known to have a memory leak on Windows with MKL, when there are less chunks than available threads. You can avoid it by setting the environment variable OMP_NUM_THREADS=2.\n",
      "  warnings.warn(\n",
      "C:\\Users\\ojast\\anaconda3\\Lib\\site-packages\\sklearn\\cluster\\_kmeans.py:1429: UserWarning: KMeans is known to have a memory leak on Windows with MKL, when there are less chunks than available threads. You can avoid it by setting the environment variable OMP_NUM_THREADS=2.\n",
      "  warnings.warn(\n",
      "C:\\Users\\ojast\\anaconda3\\Lib\\site-packages\\sklearn\\cluster\\_kmeans.py:1429: UserWarning: KMeans is known to have a memory leak on Windows with MKL, when there are less chunks than available threads. You can avoid it by setting the environment variable OMP_NUM_THREADS=2.\n",
      "  warnings.warn(\n",
      "C:\\Users\\ojast\\anaconda3\\Lib\\site-packages\\sklearn\\cluster\\_kmeans.py:1429: UserWarning: KMeans is known to have a memory leak on Windows with MKL, when there are less chunks than available threads. You can avoid it by setting the environment variable OMP_NUM_THREADS=2.\n",
      "  warnings.warn(\n",
      "C:\\Users\\ojast\\anaconda3\\Lib\\site-packages\\sklearn\\cluster\\_kmeans.py:1429: UserWarning: KMeans is known to have a memory leak on Windows with MKL, when there are less chunks than available threads. You can avoid it by setting the environment variable OMP_NUM_THREADS=2.\n",
      "  warnings.warn(\n",
      "C:\\Users\\ojast\\anaconda3\\Lib\\site-packages\\sklearn\\cluster\\_kmeans.py:1429: UserWarning: KMeans is known to have a memory leak on Windows with MKL, when there are less chunks than available threads. You can avoid it by setting the environment variable OMP_NUM_THREADS=2.\n",
      "  warnings.warn(\n"
     ]
    },
    {
     "data": {
      "image/png": "[encoded data removed]",
      "text/plain": [
       "<Figure size 640x480 with 1 Axes>"
      ]
     },
     "metadata": {},
     "output_type": "display_data"
    }
   ],
   "source": [
    "import matplotlib.pyplot as plt\n",
    "\n",
    "distortions = []\n",
    "for k in range(2, 20):\n",
    "    kmeans = KMeans(n_clusters=k).fit(x_train)\n",
    "    distortions.append(kmeans.inertia_)\n",
    "\n",
    "plt.plot(range(2, 20), distortions, marker='o')\n",
    "plt.xlabel('Number of clusters (k)')\n",
    "plt.ylabel('Distortion')\n",
    "plt.title('Elbow Plot')\n",
    "plt.show()"
   ]
  },
  {
   "cell_type": "code",
   "execution_count": null,
   "id": "61222172-bdae-4390-a7bf-8243ab525117",
   "metadata": {},
   "outputs": [],
   "source": []
  }
 ],
 "metadata": {
  "kernelspec": {
   "display_name": "Python 3 (ipykernel)",
   "language": "python",
   "name": "python3"
  },
  "language_info": {
   "codemirror_mode": {
    "name": "ipython",
    "version": 3
   },
   "file_extension": ".py",
   "mimetype": "text/x-python",
   "name": "python",
   "nbconvert_exporter": "python",
   "pygments_lexer": "ipython3",
   "version": "3.12.4"
  }
 },
 "nbformat": 4,
 "nbformat_minor": 5
}
